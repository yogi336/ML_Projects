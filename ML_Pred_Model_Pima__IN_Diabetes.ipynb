{
  "nbformat": 4,
  "nbformat_minor": 0,
  "metadata": {
    "colab": {
      "name": "ML_Pred_Model_Pima _IN_Diabetes",
      "provenance": [],
      "collapsed_sections": []
    },
    "kernelspec": {
      "name": "python3",
      "display_name": "Python 3"
    }
  },
  "cells": [
    {
      "cell_type": "code",
      "metadata": {
        "id": "co00CYq4mCao",
        "colab_type": "code",
        "colab": {}
      },
      "source": [
        "import os\n",
        "import pandas as pd\n",
        "import numpy as np"
      ],
      "execution_count": null,
      "outputs": []
    },
    {
      "cell_type": "code",
      "metadata": {
        "id": "cda7WwXumLtz",
        "colab_type": "code",
        "colab": {}
      },
      "source": [
        "dataset = pd.read_csv('/content/drive/My Drive/ANN/pima-indians-diabetes.csv', header=None)\n"
      ],
      "execution_count": null,
      "outputs": []
    },
    {
      "cell_type": "code",
      "metadata": {
        "id": "ZygLmeZdmrEg",
        "colab_type": "code",
        "colab": {}
      },
      "source": [
        "# Because thr CSV doesn't contain any header, we add column names \n",
        "# using the description from the original dataset website\n",
        "dataset.columns = [\n",
        "    \"NumTimesPrg\", \"PlGlcConc\", \"BloodP\",\n",
        "    \"SkinThick\", \"TwoHourSerIns\", \"BMI\",\n",
        "    \"DiPedFunc\", \"Age\", \"HasDiabetes\"]"
      ],
      "execution_count": null,
      "outputs": []
    },
    {
      "cell_type": "code",
      "metadata": {
        "id": "RcvYW8GKmtbG",
        "colab_type": "code",
        "colab": {
          "base_uri": "https://localhost:8080/",
          "height": 223
        },
        "outputId": "c6dcc7c6-7e09-4a37-c2fe-37995e1630be"
      },
      "source": [
        "dataset.head()"
      ],
      "execution_count": null,
      "outputs": [
        {
          "output_type": "execute_result",
          "data": {
            "text/html": [
              "<div>\n",
              "<style scoped>\n",
              "    .dataframe tbody tr th:only-of-type {\n",
              "        vertical-align: middle;\n",
              "    }\n",
              "\n",
              "    .dataframe tbody tr th {\n",
              "        vertical-align: top;\n",
              "    }\n",
              "\n",
              "    .dataframe thead th {\n",
              "        text-align: right;\n",
              "    }\n",
              "</style>\n",
              "<table border=\"1\" class=\"dataframe\">\n",
              "  <thead>\n",
              "    <tr style=\"text-align: right;\">\n",
              "      <th></th>\n",
              "      <th>NumTimesPrg</th>\n",
              "      <th>PlGlcConc</th>\n",
              "      <th>BloodP</th>\n",
              "      <th>SkinThick</th>\n",
              "      <th>TwoHourSerIns</th>\n",
              "      <th>BMI</th>\n",
              "      <th>DiPedFunc</th>\n",
              "      <th>Age</th>\n",
              "      <th>HasDiabetes</th>\n",
              "    </tr>\n",
              "  </thead>\n",
              "  <tbody>\n",
              "    <tr>\n",
              "      <th>0</th>\n",
              "      <td>6</td>\n",
              "      <td>148</td>\n",
              "      <td>72</td>\n",
              "      <td>35</td>\n",
              "      <td>0</td>\n",
              "      <td>33.6</td>\n",
              "      <td>0.627</td>\n",
              "      <td>50</td>\n",
              "      <td>1</td>\n",
              "    </tr>\n",
              "    <tr>\n",
              "      <th>1</th>\n",
              "      <td>1</td>\n",
              "      <td>85</td>\n",
              "      <td>66</td>\n",
              "      <td>29</td>\n",
              "      <td>0</td>\n",
              "      <td>26.6</td>\n",
              "      <td>0.351</td>\n",
              "      <td>31</td>\n",
              "      <td>0</td>\n",
              "    </tr>\n",
              "    <tr>\n",
              "      <th>2</th>\n",
              "      <td>8</td>\n",
              "      <td>183</td>\n",
              "      <td>64</td>\n",
              "      <td>0</td>\n",
              "      <td>0</td>\n",
              "      <td>23.3</td>\n",
              "      <td>0.672</td>\n",
              "      <td>32</td>\n",
              "      <td>1</td>\n",
              "    </tr>\n",
              "    <tr>\n",
              "      <th>3</th>\n",
              "      <td>1</td>\n",
              "      <td>89</td>\n",
              "      <td>66</td>\n",
              "      <td>23</td>\n",
              "      <td>94</td>\n",
              "      <td>28.1</td>\n",
              "      <td>0.167</td>\n",
              "      <td>21</td>\n",
              "      <td>0</td>\n",
              "    </tr>\n",
              "    <tr>\n",
              "      <th>4</th>\n",
              "      <td>0</td>\n",
              "      <td>137</td>\n",
              "      <td>40</td>\n",
              "      <td>35</td>\n",
              "      <td>168</td>\n",
              "      <td>43.1</td>\n",
              "      <td>2.288</td>\n",
              "      <td>33</td>\n",
              "      <td>1</td>\n",
              "    </tr>\n",
              "  </tbody>\n",
              "</table>\n",
              "</div>"
            ],
            "text/plain": [
              "   NumTimesPrg  PlGlcConc  BloodP  SkinThick  ...   BMI  DiPedFunc  Age  HasDiabetes\n",
              "0            6        148      72         35  ...  33.6      0.627   50            1\n",
              "1            1         85      66         29  ...  26.6      0.351   31            0\n",
              "2            8        183      64          0  ...  23.3      0.672   32            1\n",
              "3            1         89      66         23  ...  28.1      0.167   21            0\n",
              "4            0        137      40         35  ...  43.1      2.288   33            1\n",
              "\n",
              "[5 rows x 9 columns]"
            ]
          },
          "metadata": {
            "tags": []
          },
          "execution_count": 5
        }
      ]
    },
    {
      "cell_type": "code",
      "metadata": {
        "id": "HpbSJnmemw17",
        "colab_type": "code",
        "colab": {
          "base_uri": "https://localhost:8080/",
          "height": 34
        },
        "outputId": "ae121f77-99be-4cc8-9189-97f7127290ee"
      },
      "source": [
        "dataset.shape"
      ],
      "execution_count": null,
      "outputs": [
        {
          "output_type": "execute_result",
          "data": {
            "text/plain": [
              "(768, 9)"
            ]
          },
          "metadata": {
            "tags": []
          },
          "execution_count": 6
        }
      ]
    },
    {
      "cell_type": "code",
      "metadata": {
        "id": "EePFplQ0m4cF",
        "colab_type": "code",
        "colab": {
          "base_uri": "https://localhost:8080/",
          "height": 346
        },
        "outputId": "4d43fc90-ba29-441e-e84c-8bae9035b278"
      },
      "source": [
        "# Data correlation matrix\n",
        "corr = dataset.corr()\n",
        "corr"
      ],
      "execution_count": null,
      "outputs": [
        {
          "output_type": "execute_result",
          "data": {
            "text/html": [
              "<div>\n",
              "<style scoped>\n",
              "    .dataframe tbody tr th:only-of-type {\n",
              "        vertical-align: middle;\n",
              "    }\n",
              "\n",
              "    .dataframe tbody tr th {\n",
              "        vertical-align: top;\n",
              "    }\n",
              "\n",
              "    .dataframe thead th {\n",
              "        text-align: right;\n",
              "    }\n",
              "</style>\n",
              "<table border=\"1\" class=\"dataframe\">\n",
              "  <thead>\n",
              "    <tr style=\"text-align: right;\">\n",
              "      <th></th>\n",
              "      <th>NumTimesPrg</th>\n",
              "      <th>PlGlcConc</th>\n",
              "      <th>BloodP</th>\n",
              "      <th>SkinThick</th>\n",
              "      <th>TwoHourSerIns</th>\n",
              "      <th>BMI</th>\n",
              "      <th>DiPedFunc</th>\n",
              "      <th>Age</th>\n",
              "      <th>HasDiabetes</th>\n",
              "    </tr>\n",
              "  </thead>\n",
              "  <tbody>\n",
              "    <tr>\n",
              "      <th>NumTimesPrg</th>\n",
              "      <td>1.000000</td>\n",
              "      <td>0.129459</td>\n",
              "      <td>0.141282</td>\n",
              "      <td>-0.081672</td>\n",
              "      <td>-0.073535</td>\n",
              "      <td>0.017683</td>\n",
              "      <td>-0.033523</td>\n",
              "      <td>0.544341</td>\n",
              "      <td>0.221898</td>\n",
              "    </tr>\n",
              "    <tr>\n",
              "      <th>PlGlcConc</th>\n",
              "      <td>0.129459</td>\n",
              "      <td>1.000000</td>\n",
              "      <td>0.152590</td>\n",
              "      <td>0.057328</td>\n",
              "      <td>0.331357</td>\n",
              "      <td>0.221071</td>\n",
              "      <td>0.137337</td>\n",
              "      <td>0.263514</td>\n",
              "      <td>0.466581</td>\n",
              "    </tr>\n",
              "    <tr>\n",
              "      <th>BloodP</th>\n",
              "      <td>0.141282</td>\n",
              "      <td>0.152590</td>\n",
              "      <td>1.000000</td>\n",
              "      <td>0.207371</td>\n",
              "      <td>0.088933</td>\n",
              "      <td>0.281805</td>\n",
              "      <td>0.041265</td>\n",
              "      <td>0.239528</td>\n",
              "      <td>0.065068</td>\n",
              "    </tr>\n",
              "    <tr>\n",
              "      <th>SkinThick</th>\n",
              "      <td>-0.081672</td>\n",
              "      <td>0.057328</td>\n",
              "      <td>0.207371</td>\n",
              "      <td>1.000000</td>\n",
              "      <td>0.436783</td>\n",
              "      <td>0.392573</td>\n",
              "      <td>0.183928</td>\n",
              "      <td>-0.113970</td>\n",
              "      <td>0.074752</td>\n",
              "    </tr>\n",
              "    <tr>\n",
              "      <th>TwoHourSerIns</th>\n",
              "      <td>-0.073535</td>\n",
              "      <td>0.331357</td>\n",
              "      <td>0.088933</td>\n",
              "      <td>0.436783</td>\n",
              "      <td>1.000000</td>\n",
              "      <td>0.197859</td>\n",
              "      <td>0.185071</td>\n",
              "      <td>-0.042163</td>\n",
              "      <td>0.130548</td>\n",
              "    </tr>\n",
              "    <tr>\n",
              "      <th>BMI</th>\n",
              "      <td>0.017683</td>\n",
              "      <td>0.221071</td>\n",
              "      <td>0.281805</td>\n",
              "      <td>0.392573</td>\n",
              "      <td>0.197859</td>\n",
              "      <td>1.000000</td>\n",
              "      <td>0.140647</td>\n",
              "      <td>0.036242</td>\n",
              "      <td>0.292695</td>\n",
              "    </tr>\n",
              "    <tr>\n",
              "      <th>DiPedFunc</th>\n",
              "      <td>-0.033523</td>\n",
              "      <td>0.137337</td>\n",
              "      <td>0.041265</td>\n",
              "      <td>0.183928</td>\n",
              "      <td>0.185071</td>\n",
              "      <td>0.140647</td>\n",
              "      <td>1.000000</td>\n",
              "      <td>0.033561</td>\n",
              "      <td>0.173844</td>\n",
              "    </tr>\n",
              "    <tr>\n",
              "      <th>Age</th>\n",
              "      <td>0.544341</td>\n",
              "      <td>0.263514</td>\n",
              "      <td>0.239528</td>\n",
              "      <td>-0.113970</td>\n",
              "      <td>-0.042163</td>\n",
              "      <td>0.036242</td>\n",
              "      <td>0.033561</td>\n",
              "      <td>1.000000</td>\n",
              "      <td>0.238356</td>\n",
              "    </tr>\n",
              "    <tr>\n",
              "      <th>HasDiabetes</th>\n",
              "      <td>0.221898</td>\n",
              "      <td>0.466581</td>\n",
              "      <td>0.065068</td>\n",
              "      <td>0.074752</td>\n",
              "      <td>0.130548</td>\n",
              "      <td>0.292695</td>\n",
              "      <td>0.173844</td>\n",
              "      <td>0.238356</td>\n",
              "      <td>1.000000</td>\n",
              "    </tr>\n",
              "  </tbody>\n",
              "</table>\n",
              "</div>"
            ],
            "text/plain": [
              "               NumTimesPrg  PlGlcConc  ...       Age  HasDiabetes\n",
              "NumTimesPrg       1.000000   0.129459  ...  0.544341     0.221898\n",
              "PlGlcConc         0.129459   1.000000  ...  0.263514     0.466581\n",
              "BloodP            0.141282   0.152590  ...  0.239528     0.065068\n",
              "SkinThick        -0.081672   0.057328  ... -0.113970     0.074752\n",
              "TwoHourSerIns    -0.073535   0.331357  ... -0.042163     0.130548\n",
              "BMI               0.017683   0.221071  ...  0.036242     0.292695\n",
              "DiPedFunc        -0.033523   0.137337  ...  0.033561     0.173844\n",
              "Age               0.544341   0.263514  ...  1.000000     0.238356\n",
              "HasDiabetes       0.221898   0.466581  ...  0.238356     1.000000\n",
              "\n",
              "[9 rows x 9 columns]"
            ]
          },
          "metadata": {
            "tags": []
          },
          "execution_count": 7
        }
      ]
    },
    {
      "cell_type": "code",
      "metadata": {
        "id": "wxyz5wNXnEeK",
        "colab_type": "code",
        "colab": {
          "base_uri": "https://localhost:8080/",
          "height": 404
        },
        "outputId": "098d7e23-5ca7-4256-d72f-ef1441a6c808"
      },
      "source": [
        "%matplotlib inline\n",
        "import seaborn as sns\n",
        "sns.heatmap(corr, annot = True)"
      ],
      "execution_count": null,
      "outputs": [
        {
          "output_type": "stream",
          "text": [
            "/usr/local/lib/python3.6/dist-packages/statsmodels/tools/_testing.py:19: FutureWarning: pandas.util.testing is deprecated. Use the functions in the public API at pandas.testing instead.\n",
            "  import pandas.util.testing as tm\n"
          ],
          "name": "stderr"
        },
        {
          "output_type": "execute_result",
          "data": {
            "text/plain": [
              "<matplotlib.axes._subplots.AxesSubplot at 0x7f4cbea51208>"
            ]
          },
          "metadata": {
            "tags": []
          },
          "execution_count": 8
        },
        {
          "output_type": "display_data",
          "data": {
            "image/png": "[encoded data removed]",
            "text/plain": [
              "<Figure size 432x288 with 2 Axes>"
            ]
          },
          "metadata": {
            "tags": [],
            "needs_background": "light"
          }
        }
      ]
    },
    {
      "cell_type": "code",
      "metadata": {
        "id": "L5SEvbddnIac",
        "colab_type": "code",
        "colab": {
          "base_uri": "https://localhost:8080/",
          "height": 519
        },
        "outputId": "1e0a5023-770c-49f0-f2d4-d5d0ca7a8a26"
      },
      "source": [
        "# Visualise the Dataset\n",
        "import matplotlib.pyplot as plt\n",
        "dataset.hist(bins=50, figsize=(20, 15))\n",
        "plt.show()"
      ],
      "execution_count": null,
      "outputs": [
        {
          "output_type": "display_data",
          "data": {
            "image/png": "[encoded data removed]",
            "text/plain": [
              "<Figure size 1440x1080 with 9 Axes>"
            ]
          },
          "metadata": {
            "tags": [],
            "needs_background": "light"
          }
        }
      ]
    },
    {
      "cell_type": "code",
      "metadata": {
        "id": "50kLOieQnOXS",
        "colab_type": "code",
        "colab": {}
      },
      "source": [
        "# Data cleaning and transformation\n",
        "\n",
        "# Calculate the median value for BMI\n",
        "median_bmi = dataset['BMI'].median()\n",
        "# Substitute it in the BMI column of the\n",
        "# dataset where values are 0\n",
        "dataset['BMI'] = dataset['BMI'].replace(\n",
        "    to_replace=0, value=median_bmi)\n",
        "\n",
        "# Calculate the median value for BloodP\n",
        "median_bloodp = dataset['BloodP'].median()\n",
        "# Substitute it in the BloodP column of the\n",
        "# dataset where values are 0\n",
        "dataset['BloodP'] = dataset['BloodP'].replace(\n",
        "    to_replace=0, value=median_bloodp)\n",
        "\n",
        "# Calculate the median value for PlGlcConc\n",
        "median_plglcconc = dataset['PlGlcConc'].median()\n",
        "# Substitute it in the PlGlcConc column of the\n",
        "# dataset where values are 0\n",
        "dataset['PlGlcConc'] = dataset['PlGlcConc'].replace(\n",
        "    to_replace=0, value=median_plglcconc)\n",
        "\n",
        "# Calculate the median value for SkinThick\n",
        "median_skinthick = dataset['SkinThick'].median()\n",
        "# Substitute it in the SkinThick column of the\n",
        "# dataset where values are 0\n",
        "dataset['SkinThick'] = dataset['SkinThick'].replace(\n",
        "    to_replace=0, value=median_skinthick)\n",
        "\n",
        "# Calculate the median value for TwoHourSerIns\n",
        "median_twohourserins = dataset['TwoHourSerIns'].median()\n",
        "# Substitute it in the TwoHourSerIns column of the\n",
        "# dataset where values are 0\n",
        "dataset['TwoHourSerIns'] = dataset['TwoHourSerIns'].replace(\n",
        "    to_replace=0, value=median_twohourserins)"
      ],
      "execution_count": null,
      "outputs": []
    },
    {
      "cell_type": "code",
      "metadata": {
        "id": "wNylR9QCnhXp",
        "colab_type": "code",
        "colab": {}
      },
      "source": [
        "# Splitting the Dataset\n",
        "# Split the training dataset in 80% / 20%\n",
        "from sklearn.model_selection import train_test_split\n",
        "train_set, test_set = train_test_split(\n",
        "    dataset, test_size=0.2, random_state=42)"
      ],
      "execution_count": null,
      "outputs": []
    },
    {
      "cell_type": "code",
      "metadata": {
        "id": "AQGYFZIhnoru",
        "colab_type": "code",
        "colab": {}
      },
      "source": [
        "# Separate labels from the rest of the dataset\n",
        "train_set_labels = train_set[\"HasDiabetes\"].copy()\n",
        "train_set = train_set.drop(\"HasDiabetes\", axis=1)\n",
        "\n",
        "test_set_labels = test_set[\"HasDiabetes\"].copy()\n",
        "test_set = test_set.drop(\"HasDiabetes\", axis=1)"
      ],
      "execution_count": null,
      "outputs": []
    },
    {
      "cell_type": "code",
      "metadata": {
        "id": "sbOUBzu0nsQw",
        "colab_type": "code",
        "colab": {}
      },
      "source": [
        "# Feature Scaling\n",
        "# Apply a scaler\n",
        "from sklearn.preprocessing import MinMaxScaler as Scaler\n",
        "\n",
        "scaler = Scaler()\n",
        "scaler.fit(train_set)\n",
        "train_set_scaled = scaler.transform(train_set)\n",
        "test_set_scaled = scaler.transform(test_set)"
      ],
      "execution_count": null,
      "outputs": []
    },
    {
      "cell_type": "code",
      "metadata": {
        "id": "IHh7XfNgnxjD",
        "colab_type": "code",
        "colab": {
          "base_uri": "https://localhost:8080/",
          "height": 203
        },
        "outputId": "6df7ea91-6576-4069-aa77-79880ed792a5"
      },
      "source": [
        "# Scaled Values\n",
        "df = pd.DataFrame(data=train_set_scaled)\n",
        "df.head()"
      ],
      "execution_count": null,
      "outputs": [
        {
          "output_type": "execute_result",
          "data": {
            "text/html": [
              "<div>\n",
              "<style scoped>\n",
              "    .dataframe tbody tr th:only-of-type {\n",
              "        vertical-align: middle;\n",
              "    }\n",
              "\n",
              "    .dataframe tbody tr th {\n",
              "        vertical-align: top;\n",
              "    }\n",
              "\n",
              "    .dataframe thead th {\n",
              "        text-align: right;\n",
              "    }\n",
              "</style>\n",
              "<table border=\"1\" class=\"dataframe\">\n",
              "  <thead>\n",
              "    <tr style=\"text-align: right;\">\n",
              "      <th></th>\n",
              "      <th>0</th>\n",
              "      <th>1</th>\n",
              "      <th>2</th>\n",
              "      <th>3</th>\n",
              "      <th>4</th>\n",
              "      <th>5</th>\n",
              "      <th>6</th>\n",
              "      <th>7</th>\n",
              "    </tr>\n",
              "  </thead>\n",
              "  <tbody>\n",
              "    <tr>\n",
              "      <th>0</th>\n",
              "      <td>0.117647</td>\n",
              "      <td>0.258065</td>\n",
              "      <td>0.489796</td>\n",
              "      <td>0.272727</td>\n",
              "      <td>0.019832</td>\n",
              "      <td>0.282209</td>\n",
              "      <td>0.096499</td>\n",
              "      <td>0.000000</td>\n",
              "    </tr>\n",
              "    <tr>\n",
              "      <th>1</th>\n",
              "      <td>0.529412</td>\n",
              "      <td>0.438710</td>\n",
              "      <td>0.591837</td>\n",
              "      <td>0.290909</td>\n",
              "      <td>0.019832</td>\n",
              "      <td>0.204499</td>\n",
              "      <td>0.514091</td>\n",
              "      <td>0.483333</td>\n",
              "    </tr>\n",
              "    <tr>\n",
              "      <th>2</th>\n",
              "      <td>0.058824</td>\n",
              "      <td>0.612903</td>\n",
              "      <td>0.224490</td>\n",
              "      <td>0.200000</td>\n",
              "      <td>0.082933</td>\n",
              "      <td>0.214724</td>\n",
              "      <td>0.245944</td>\n",
              "      <td>0.016667</td>\n",
              "    </tr>\n",
              "    <tr>\n",
              "      <th>3</th>\n",
              "      <td>0.000000</td>\n",
              "      <td>0.754839</td>\n",
              "      <td>0.265306</td>\n",
              "      <td>0.272727</td>\n",
              "      <td>0.019832</td>\n",
              "      <td>0.075665</td>\n",
              "      <td>0.075149</td>\n",
              "      <td>0.733333</td>\n",
              "    </tr>\n",
              "    <tr>\n",
              "      <th>4</th>\n",
              "      <td>0.352941</td>\n",
              "      <td>0.580645</td>\n",
              "      <td>0.571429</td>\n",
              "      <td>0.527273</td>\n",
              "      <td>0.427885</td>\n",
              "      <td>0.572597</td>\n",
              "      <td>0.068318</td>\n",
              "      <td>0.416667</td>\n",
              "    </tr>\n",
              "  </tbody>\n",
              "</table>\n",
              "</div>"
            ],
            "text/plain": [
              "          0         1         2  ...         5         6         7\n",
              "0  0.117647  0.258065  0.489796  ...  0.282209  0.096499  0.000000\n",
              "1  0.529412  0.438710  0.591837  ...  0.204499  0.514091  0.483333\n",
              "2  0.058824  0.612903  0.224490  ...  0.214724  0.245944  0.016667\n",
              "3  0.000000  0.754839  0.265306  ...  0.075665  0.075149  0.733333\n",
              "4  0.352941  0.580645  0.571429  ...  0.572597  0.068318  0.416667\n",
              "\n",
              "[5 rows x 8 columns]"
            ]
          },
          "metadata": {
            "tags": []
          },
          "execution_count": 14
        }
      ]
    },
    {
      "cell_type": "code",
      "metadata": {
        "id": "Higuezq-n2w3",
        "colab_type": "code",
        "colab": {}
      },
      "source": [
        "# Select and train a model\n",
        "#Comparing multiple algorithms\n",
        "\n",
        "# Import all the algorithms we want to test\n",
        "from sklearn.linear_model import LogisticRegression\n",
        "from sklearn.neighbors import KNeighborsClassifier\n",
        "from sklearn.naive_bayes import GaussianNB\n",
        "from sklearn.svm import SVC\n",
        "from sklearn.svm import LinearSVC\n",
        "from sklearn.ensemble import RandomForestClassifier\n",
        "from sklearn.tree import DecisionTreeRegressor"
      ],
      "execution_count": null,
      "outputs": []
    },
    {
      "cell_type": "code",
      "metadata": {
        "id": "QxwcSW_WoDe1",
        "colab_type": "code",
        "colab": {}
      },
      "source": [
        "# Import the slearn utility to compare algorithms\n",
        "from sklearn import model_selection"
      ],
      "execution_count": null,
      "outputs": []
    },
    {
      "cell_type": "code",
      "metadata": {
        "id": "JGccpiQ3oGG8",
        "colab_type": "code",
        "colab": {}
      },
      "source": [
        "# Prepare an array with all the algorithms\n",
        "models = []\n",
        "models.append(('LR', LogisticRegression()))\n",
        "models.append(('KNN', KNeighborsClassifier()))\n",
        "models.append(('NB', GaussianNB()))\n",
        "models.append(('SVC', SVC()))\n",
        "models.append(('LSVC', LinearSVC()))\n",
        "models.append(('RFC', RandomForestClassifier()))\n",
        "models.append(('DTR', DecisionTreeRegressor()))"
      ],
      "execution_count": null,
      "outputs": []
    },
    {
      "cell_type": "code",
      "metadata": {
        "id": "EzykbmsEoIrl",
        "colab_type": "code",
        "colab": {}
      },
      "source": [
        "seed = 7\n",
        "results = []\n",
        "names = []\n",
        "X = train_set_scaled\n",
        "Y = train_set_labels"
      ],
      "execution_count": null,
      "outputs": []
    },
    {
      "cell_type": "code",
      "metadata": {
        "id": "BEbSj043oLF_",
        "colab_type": "code",
        "colab": {
          "base_uri": "https://localhost:8080/",
          "height": 397
        },
        "outputId": "c79139d6-e5c7-4df3-a075-03831a8b5170"
      },
      "source": [
        "# Every algorithm is tested and results are\n",
        "# collected and printed\n",
        "for name, model in models:\n",
        "    kfold = model_selection.KFold(\n",
        "        n_splits=10, random_state=seed)\n",
        "    cv_results = model_selection.cross_val_score(\n",
        "        model, X, Y, cv=kfold, scoring='accuracy')\n",
        "    results.append(cv_results)\n",
        "    names.append(name)\n",
        "    msg = \"%s: %f (%f)\" % (\n",
        "        name, cv_results.mean(), cv_results.std())\n",
        "    print(msg)"
      ],
      "execution_count": null,
      "outputs": [
        {
          "output_type": "stream",
          "text": [
            "/usr/local/lib/python3.6/dist-packages/sklearn/model_selection/_split.py:296: FutureWarning: Setting a random_state has no effect since shuffle is False. This will raise an error in 0.24. You should leave random_state to its default (None), or set shuffle=True.\n",
            "  FutureWarning\n",
            "/usr/local/lib/python3.6/dist-packages/sklearn/model_selection/_split.py:296: FutureWarning: Setting a random_state has no effect since shuffle is False. This will raise an error in 0.24. You should leave random_state to its default (None), or set shuffle=True.\n",
            "  FutureWarning\n",
            "/usr/local/lib/python3.6/dist-packages/sklearn/model_selection/_split.py:296: FutureWarning: Setting a random_state has no effect since shuffle is False. This will raise an error in 0.24. You should leave random_state to its default (None), or set shuffle=True.\n",
            "  FutureWarning\n",
            "/usr/local/lib/python3.6/dist-packages/sklearn/model_selection/_split.py:296: FutureWarning: Setting a random_state has no effect since shuffle is False. This will raise an error in 0.24. You should leave random_state to its default (None), or set shuffle=True.\n",
            "  FutureWarning\n"
          ],
          "name": "stderr"
        },
        {
          "output_type": "stream",
          "text": [
            "LR: 0.754019 (0.038302)\n",
            "KNN: 0.740984 (0.049627)\n",
            "NB: 0.739450 (0.062140)\n",
            "SVC: 0.763749 (0.033309)\n"
          ],
          "name": "stdout"
        },
        {
          "output_type": "stream",
          "text": [
            "/usr/local/lib/python3.6/dist-packages/sklearn/model_selection/_split.py:296: FutureWarning: Setting a random_state has no effect since shuffle is False. This will raise an error in 0.24. You should leave random_state to its default (None), or set shuffle=True.\n",
            "  FutureWarning\n",
            "/usr/local/lib/python3.6/dist-packages/sklearn/model_selection/_split.py:296: FutureWarning: Setting a random_state has no effect since shuffle is False. This will raise an error in 0.24. You should leave random_state to its default (None), or set shuffle=True.\n",
            "  FutureWarning\n"
          ],
          "name": "stderr"
        },
        {
          "output_type": "stream",
          "text": [
            "LSVC: 0.763802 (0.042701)\n",
            "RFC: 0.767028 (0.032285)\n",
            "DTR: 0.713168 (0.042565)\n"
          ],
          "name": "stdout"
        },
        {
          "output_type": "stream",
          "text": [
            "/usr/local/lib/python3.6/dist-packages/sklearn/model_selection/_split.py:296: FutureWarning: Setting a random_state has no effect since shuffle is False. This will raise an error in 0.24. You should leave random_state to its default (None), or set shuffle=True.\n",
            "  FutureWarning\n"
          ],
          "name": "stderr"
        }
      ]
    },
    {
      "cell_type": "code",
      "metadata": {
        "id": "ZVew8a2ToOC2",
        "colab_type": "code",
        "colab": {
          "base_uri": "https://localhost:8080/",
          "height": 294
        },
        "outputId": "7edc7ac1-4d66-434f-8dce-dd9370cf3505"
      },
      "source": [
        "# boxplot algorithm comparison\n",
        "fig = plt.figure()\n",
        "fig.suptitle('Algorithm Comparison')\n",
        "ax = fig.add_subplot(111)\n",
        "plt.boxplot(results)\n",
        "ax.set_xticklabels(names)\n",
        "plt.show()"
      ],
      "execution_count": null,
      "outputs": [
        {
          "output_type": "display_data",
          "data": {
            "image/png": "[encoded data removed]",
            "text/plain": [
              "<Figure size 432x288 with 1 Axes>"
            ]
          },
          "metadata": {
            "tags": [],
            "needs_background": "light"
          }
        }
      ]
    },
    {
      "cell_type": "code",
      "metadata": {
        "id": "A5DHtm6Qougj",
        "colab_type": "code",
        "colab": {
          "base_uri": "https://localhost:8080/",
          "height": 257
        },
        "outputId": "0a7f8393-c32a-4d30-95e1-91979c730d35"
      },
      "source": [
        "# Find the best parameters for SVC\n",
        "from sklearn.model_selection import GridSearchCV\n",
        "\n",
        "param_grid = {\n",
        "    'C': [1.0, 10.0, 50.0],\n",
        "    'kernel': ['linear', 'rbf', 'poly', 'sigmoid'],\n",
        "    'shrinking': [True, False],\n",
        "    'gamma': ['auto', 1, 0.1],\n",
        "    'coef0': [0.0, 0.1, 0.5]\n",
        "}\n",
        "\n",
        "model_svc = SVC()\n",
        "\n",
        "grid_search = GridSearchCV(\n",
        "    model_svc, param_grid, cv=10, scoring='accuracy')\n",
        "grid_search.fit(train_set_scaled, train_set_labels)"
      ],
      "execution_count": null,
      "outputs": [
        {
          "output_type": "execute_result",
          "data": {
            "text/plain": [
              "GridSearchCV(cv=10, error_score=nan,\n",
              "             estimator=SVC(C=1.0, break_ties=False, cache_size=200,\n",
              "                           class_weight=None, coef0=0.0,\n",
              "                           decision_function_shape='ovr', degree=3,\n",
              "                           gamma='scale', kernel='rbf', max_iter=-1,\n",
              "                           probability=False, random_state=None, shrinking=True,\n",
              "                           tol=0.001, verbose=False),\n",
              "             iid='deprecated', n_jobs=None,\n",
              "             param_grid={'C': [1.0, 10.0, 50.0], 'coef0': [0.0, 0.1, 0.5],\n",
              "                         'gamma': ['auto', 1, 0.1],\n",
              "                         'kernel': ['linear', 'rbf', 'poly', 'sigmoid'],\n",
              "                         'shrinking': [True, False]},\n",
              "             pre_dispatch='2*n_jobs', refit=True, return_train_score=False,\n",
              "             scoring='accuracy', verbose=0)"
            ]
          },
          "metadata": {
            "tags": []
          },
          "execution_count": 21
        }
      ]
    },
    {
      "cell_type": "code",
      "metadata": {
        "id": "or7stW2WpEAG",
        "colab_type": "code",
        "colab": {
          "base_uri": "https://localhost:8080/",
          "height": 34
        },
        "outputId": "cba207e3-4d2f-49d3-ece4-3adddd2a5679"
      },
      "source": [
        "# Print the best score found\n",
        "grid_search.best_score_"
      ],
      "execution_count": null,
      "outputs": [
        {
          "output_type": "execute_result",
          "data": {
            "text/plain": [
              "0.7686938127974617"
            ]
          },
          "metadata": {
            "tags": []
          },
          "execution_count": 22
        }
      ]
    },
    {
      "cell_type": "code",
      "metadata": {
        "id": "anLnaFcgpNDQ",
        "colab_type": "code",
        "colab": {
          "base_uri": "https://localhost:8080/",
          "height": 86
        },
        "outputId": "73860359-ef77-4bc4-f87c-d5c72946ab5b"
      },
      "source": [
        "# Apply the parameters to the model and train it\n",
        "# Create an instance of the algorithm using parameters\n",
        "# from best_estimator_ property\n",
        "svc = grid_search.best_estimator_\n",
        "\n",
        "# Use the whole dataset to train the model\n",
        "X = np.append(train_set_scaled, test_set_scaled, axis=0)\n",
        "Y = np.append(train_set_labels, test_set_labels, axis=0)\n",
        "\n",
        "# Train the model\n",
        "svc.fit(X, Y)"
      ],
      "execution_count": null,
      "outputs": [
        {
          "output_type": "execute_result",
          "data": {
            "text/plain": [
              "SVC(C=10.0, break_ties=False, cache_size=200, class_weight=None, coef0=0.0,\n",
              "    decision_function_shape='ovr', degree=3, gamma=0.1, kernel='rbf',\n",
              "    max_iter=-1, probability=False, random_state=None, shrinking=True,\n",
              "    tol=0.001, verbose=False)"
            ]
          },
          "metadata": {
            "tags": []
          },
          "execution_count": 23
        }
      ]
    },
    {
      "cell_type": "code",
      "metadata": {
        "id": "7QsC3Z0KpUlm",
        "colab_type": "code",
        "colab": {}
      },
      "source": [
        "# Make a Prediction\n",
        "# We create a new (fake) person having the three most correated values high\n",
        "new_df = pd.DataFrame([[6, 168, 72, 35, 0, 43.6, 0.627, 65]])\n",
        "# We scale those values like the others\n",
        "new_df_scaled = scaler.transform(new_df)"
      ],
      "execution_count": null,
      "outputs": []
    },
    {
      "cell_type": "code",
      "metadata": {
        "id": "Ayu19ABspbqj",
        "colab_type": "code",
        "colab": {}
      },
      "source": [
        "# We predict the outcome\n",
        "prediction = svc.predict(new_df_scaled)"
      ],
      "execution_count": null,
      "outputs": []
    },
    {
      "cell_type": "code",
      "metadata": {
        "id": "IesnVaPBpdjz",
        "colab_type": "code",
        "colab": {
          "base_uri": "https://localhost:8080/",
          "height": 34
        },
        "outputId": "731af9a0-5b73-43c8-dba1-afe212c9aa5d"
      },
      "source": [
        "# A value of \"1\" means that this person is likley to have type 2 diabetes\n",
        "prediction"
      ],
      "execution_count": null,
      "outputs": [
        {
          "output_type": "execute_result",
          "data": {
            "text/plain": [
              "array([1])"
            ]
          },
          "metadata": {
            "tags": []
          },
          "execution_count": 26
        }
      ]
    },
    {
      "cell_type": "markdown",
      "metadata": {
        "id": "ZvmfmKtMppWz",
        "colab_type": "text"
      },
      "source": [
        "Conclusion\n",
        "We finally find a score of 76% using SVC algorithm and parameters optimisation. Please note that there may be still space for further analysis and optimisation, for example trying different data transformations or trying algorithms that haven't been tested yet. Once again I want to repeat that training a machine learning model to solve a problem with a specific dataset is a try / fail / improve process."
      ]
    },
    {
      "cell_type": "code",
      "metadata": {
        "id": "4yx9Anr6pqIX",
        "colab_type": "code",
        "colab": {}
      },
      "source": [
        ""
      ],
      "execution_count": null,
      "outputs": []
    }
  ]
}